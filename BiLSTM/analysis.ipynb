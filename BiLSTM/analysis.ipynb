{
 "cells": [
  {
   "cell_type": "code",
   "execution_count": 49,
   "id": "322eef87",
   "metadata": {},
   "outputs": [],
   "source": [
    "import pandas as pd\n",
    "import csv\n",
    "import numpy as np\n",
    "import matplotlib.pyplot as plt"
   ]
  },
  {
   "cell_type": "code",
   "execution_count": 141,
   "id": "f4b6f72a",
   "metadata": {},
   "outputs": [],
   "source": [
    "#Reading in Loss/Accuracy Metrics from models across training epochs\n",
    "#Note: The output for these files is within the model_evaluation folder\n",
    "language_code = 'ar'\n",
    "language = 'Arabic'\n",
    "df = pd. read_excel (r'model_evaluation/train_validate_configuration_1.xlsx', sheet_name= language_code)\n",
    "df2 = pd. read_excel (r'model_evaluation/train_validate_configuration_2.xlsx', sheet_name=language_code)"
   ]
  },
  {
   "cell_type": "code",
   "execution_count": 143,
   "id": "96ad0d22",
   "metadata": {},
   "outputs": [],
   "source": [
    "# Data Processing output from Models in excel spreadsheets\n",
    "# Look at all those lists.....X_X\n",
    "train_loss = []\n",
    "train_loss2 = []\n",
    "train_acc = []\n",
    "train_acc2=[]\n",
    "val_loss = []\n",
    "val_loss2 = []\n",
    "val_acc = []\n",
    "val_acc2=[]\n",
    "\n",
    "def p2f(x):\n",
    "    return float(x.strip('%'))/100\n",
    "\n",
    "def split_rows(string, row, loss_list, accuracy_list):\n",
    "    \n",
    "    if string in row:\n",
    "        loss = row.split('|')[0]\n",
    "        loss = loss.split(':')[1]\n",
    "        loss = p2f(loss)\n",
    "        loss_list.append(loss)\n",
    "        acc= acc_loss.split('|')[1]\n",
    "        acc = acc.split(':')[1]\n",
    "        acc = p2f(acc)\n",
    "        accuracy_list.append(acc)\n",
    "        \n",
    "    \n",
    "for row, idx in df.iterrows():\n",
    "    acc_loss = idx[1]\n",
    "    if isinstance(acc_loss, str):\n",
    "        split_rows(\"Train\", acc_loss, train_loss, train_acc)\n",
    "        split_rows(\"Val.\", acc_loss, val_loss, val_acc)\n",
    "        \n",
    "        \n",
    "for row, idx in df2.iterrows():\n",
    "    acc_loss = idx[1]\n",
    "    if isinstance(acc_loss, str):\n",
    "        split_rows(\"Train\", acc_loss, train_loss2, train_acc2)\n",
    "        split_rows(\"Val.\", acc_loss, val_loss2, val_acc2)\n",
    "        "
   ]
  },
  {
   "cell_type": "code",
   "execution_count": 144,
   "id": "29ca620c",
   "metadata": {},
   "outputs": [
    {
     "data": {
      "image/png": "[encoded data removed]",
      "text/plain": [
       "<Figure size 432x288 with 2 Axes>"
      ]
     },
     "metadata": {
      "needs_background": "light"
     },
     "output_type": "display_data"
    }
   ],
   "source": [
    "#Graph Visualization for Loss Rate Across Epochs\n",
    "fig, (ax1, ax2) = plt.subplots(2, sharex=True)\n",
    "fig.suptitle('Loss Curve for {}'.format(language))\n",
    "ax1.plot(list(range(0, (len(train_loss)))), train_loss, color='orange', label = 'training', linestyle='dashed',\n",
    "     linewidth=2, markersize=12)\n",
    "ax1.plot(list(range(0, (len(val_loss)))), val_loss, color='green', label = 'validation', linestyle='dashed',\n",
    "     linewidth=2, markersize=12)\n",
    "ax1.legend()\n",
    "ax2.plot(list(range(0, (len(train_loss2)))), train_loss2, color='orange', label = 'training', linestyle='dashed',\n",
    "     linewidth=2, markersize=12)\n",
    "ax2.plot(list(range(0, (len(val_loss2)))), val_loss2, color='green', label = 'validation', linestyle='dashed',\n",
    "     linewidth=2, markersize=12)\n",
    "ax2.legend()\n",
    "fig.savefig('model_evaluation/loss_curve_{}.png'.format(language))"
   ]
  },
  {
   "cell_type": "code",
   "execution_count": null,
   "id": "5a81a259",
   "metadata": {},
   "outputs": [],
   "source": []
  }
 ],
 "metadata": {
  "kernelspec": {
   "display_name": "Python 3 (ipykernel)",
   "language": "python",
   "name": "python3"
  },
  "language_info": {
   "codemirror_mode": {
    "name": "ipython",
    "version": 3
   },
   "file_extension": ".py",
   "mimetype": "text/x-python",
   "name": "python",
   "nbconvert_exporter": "python",
   "pygments_lexer": "ipython3",
   "version": "3.8.12"
  }
 },
 "nbformat": 4,
 "nbformat_minor": 5
}
